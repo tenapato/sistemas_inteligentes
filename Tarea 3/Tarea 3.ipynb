{
 "cells": [
  {
   "cell_type": "code",
   "execution_count": 261,
   "metadata": {},
   "outputs": [],
   "source": [
    "import networkx as nx\n",
    "from copy import deepcopy\n",
    "from operator import itemgetter\n",
    "import matplotlib.pyplot as plt\n",
    "%matplotlib inline"
   ]
  },
  {
   "cell_type": "code",
   "execution_count": 262,
   "metadata": {},
   "outputs": [],
   "source": [
    "def check_completeness(solution, variables):\n",
    "    return True if len(solution) == len(variables) else False"
   ]
  },
  {
   "cell_type": "code",
   "execution_count": 263,
   "metadata": {},
   "outputs": [],
   "source": [
    "def static_variable_selection(solution, csp, debug=True):\n",
    "    unassigned_variables = [x for x in csp[0] if x not in solution]\n",
    "    variable = unassigned_variables[0]\n",
    "    if debug: print(\"Selected variable:\"+ str(variable))\n",
    "    return variable"
   ]
  },
  {
   "cell_type": "code",
   "execution_count": 264,
   "metadata": {},
   "outputs": [],
   "source": [
    "def static_domain_selection(variable, assignment, csp, debug=True):\n",
    "    for domain_value in csp[1][variable]:\n",
    "        if debug: print(\"Selected value\" + str(domain_value) + \"for\" + str(variable) )\n",
    "        yield domain_value"
   ]
  },
  {
   "cell_type": "code",
   "execution_count": 265,
   "metadata": {},
   "outputs": [],
   "source": [
    "def check_value_consistency(variable, value, assignment, constraints, debug=True):\n",
    "    if assignment is None: return False\n",
    "    for v in constraints:\n",
    "        if v in assignment:\n",
    "            if value is assignment[v]:\n",
    "                if debug: print(str(variable)+\":\"+ str(value)+ \"conflicts with\"+str(v)+\" :\" + str(assignment[v]))\n",
    "                return False\n",
    "    return True"
   ]
  },
  {
   "cell_type": "code",
   "execution_count": 266,
   "metadata": {},
   "outputs": [],
   "source": [
    "def no_inference(csp, variable, value, assignment, debug=True):\n",
    "    return True"
   ]
  },
  {
   "cell_type": "code",
   "execution_count": 267,
   "metadata": {},
   "outputs": [],
   "source": [
    "def backtrack(assignment, csp, params, debug=True):\n",
    "    select_unassigned_variable, order_domain_values, inference = params\n",
    "    if debug: print(\"Solution: \" +str(assignment))\n",
    "    if check_completeness(assignment, csp[0]): return True, assignment\n",
    "    variable = select_unassigned_variable(assignment, csp, debug=debug)\n",
    "    for value in order_domain_values(variable, assignment, csp, debug):\n",
    "        if check_value_consistency(variable, value, assignment, csp[2][variable], debug=debug):\n",
    "            assignment[variable], m_csp = value, deepcopy(csp)\n",
    "            if inference(csp, variable, value, assignment, debug=debug):\n",
    "                result, assignment = backtrack(deepcopy(assignment), csp, params, debug=debug)\n",
    "                if result: return True, assignment\n",
    "            del assignment[variable]\n",
    "            csp = m_csp\n",
    "    return False, assignment"
   ]
  },
  {
   "cell_type": "code",
   "execution_count": 268,
   "metadata": {},
   "outputs": [],
   "source": [
    "def backtracking_search(csp, params, debug=True):\n",
    "    solution = dict()\n",
    "    return backtrack(solution, csp, params, debug=debug)"
   ]
  },
  {
   "cell_type": "code",
   "execution_count": 269,
   "metadata": {},
   "outputs": [],
   "source": [
    "def get_adjacency_list(nodes, edges):\n",
    "    adjacency_list = dict()\n",
    "    for node in nodes:\n",
    "        aList = set()\n",
    "        [aList.add(x) for x, y in edges if x != node and y == node]\n",
    "        [aList.add(y) for x, y in edges if y != node and x == node]\n",
    "        adjacency_list[node] = aList\n",
    "    return adjacency_list"
   ]
  },
  {
   "cell_type": "code",
   "execution_count": 270,
   "metadata": {},
   "outputs": [],
   "source": [
    "def minimum_remaining_values():\n",
    "    pass\n",
    "def forward_checking():\n",
    "    pass\n",
    "def least_contraining_value():\n",
    "    pass\n"
   ]
  },
  {
   "cell_type": "code",
   "execution_count": 271,
   "metadata": {},
   "outputs": [],
   "source": [
    "def color_map(world, colors=[\"blue\", \"green\", \"red\", \"yellow\"], params=(minimum_remaining_values, least_contraining_value, forward_checking), debug=True):\n",
    "    variables = world[0]\n",
    "    domains = dict([(x, colors) for x in variables])\n",
    "    constraints = get_adjacency_list(world[0], world[1])\n",
    "    result, solution = backtracking_search((variables, domains, constraints), params, debug=debug)\n",
    "    if not result: print(\"No Solution\")                  \n",
    "    else: return solution"
   ]
  },
  {
   "cell_type": "code",
   "execution_count": 272,
   "metadata": {},
   "outputs": [],
   "source": [
    "def draw_color_map(world, colors, pos=None):\n",
    "    if colors is None: return\n",
    "    fig = plt.figure()\n",
    "    G = nx.Graph()\n",
    "    if pos is None:\n",
    "        pos = nx.spring_layout(G)\n",
    "    G.add_nodes_from(world[0])\n",
    "    G.add_edges_from(world[1])\n",
    "    node_colors = [colors[x] for x in G.nodes()]\n",
    "    nx.draw(G, node_color=node_colors, node_size=700, alpha=0.5)\n",
    "    plt.axis('off')\n",
    "    fig.set_size_inches(8, 8)\n",
    "    plt.show()"
   ]
  },
  {
   "cell_type": "code",
   "execution_count": 273,
   "metadata": {},
   "outputs": [],
   "source": [
    "def connecticut_map():\n",
    "    nodes = [\"fairfield\", \"litchfield\", \"new haven\", \"hartford\", \"middlesex\", \"tolland\", \"new london\", \"windham\"]\n",
    "    edges = [(\"fairfield\", \"litchfield\"), (\"fairfield\", \"new haven\"),\n",
    "             (\"litchfield\", \"new haven\"), (\"litchfield\", \"hartford\"),\n",
    "             (\"new haven\", \"hartford\"), (\"new haven\", \"middlesex\"),\n",
    "             (\"hartford\", \"middlesex\"), (\"hartford\", \"tolland\"), (\"hartford\", \"new london\"),\n",
    "             (\"middlesex\", \"new london\"),\n",
    "             (\"tolland\", \"new london\"), (\"tolland\", \"windham\"),\n",
    "             (\"new london\", \"windham\")]\n",
    "    return (nodes, edges)"
   ]
  },
  {
   "cell_type": "code",
   "execution_count": 274,
   "metadata": {},
   "outputs": [
    {
     "name": "stdout",
     "output_type": "stream",
     "text": [
      "Solution: {}\n",
      "Selected variable:fairfield\n",
      "Selected valueblueforfairfield\n",
      "Selected valuegreenforfairfield\n",
      "Selected valueredforfairfield\n",
      "Selected valueyellowforfairfield\n",
      "No Solution\n"
     ]
    }
   ],
   "source": [
    "world = connecticut_map()\n",
    "solution = color_map(world, params=(static_variable_selection, static_domain_selection, no_inference))\n",
    "#draw_color_map(world, solution)"
   ]
  },
  {
   "cell_type": "code",
   "execution_count": 275,
   "metadata": {},
   "outputs": [],
   "source": [
    "def minimum_remaining_values(solution, csp, debug=True):\n",
    "    unassigned_variables = [x for x in csp[0] if x not in solution]\n",
    "    variable_domain_count = [(x, len(csp[1][x])) for x in unassigned_variables]\n",
    "    variables = sorted(variable_domain_count, key=itemgetter(1))\n",
    "    if debug: print(\" Selected variable \" +str(variables[0][0])+ \" with value count \" + str(variables[0][1]))\n",
    "    return variables[0][0]"
   ]
  },
  {
   "cell_type": "code",
   "execution_count": 276,
   "metadata": {},
   "outputs": [],
   "source": [
    "def forward_checking(csp, variable, value, assignment, debug=True):\n",
    "    unassigned_neighbors = [y for y in csp[2][variable] if y not in assignment]\n",
    "    for x in unassigned_neighbors:\n",
    "        if value in csp[1][x]:\n",
    "            if debug: print(\" Removing \" +str(value) + \" from \" +str(x))\n",
    "            csp[1][x] = [c for c in csp[1][x] if c is not value]\n",
    "        if len(csp[1][x]) == 0: return False\n",
    "    return True"
   ]
  },
  {
   "cell_type": "code",
   "execution_count": 277,
   "metadata": {},
   "outputs": [
    {
     "name": "stdout",
     "output_type": "stream",
     "text": [
      "Solution: {}\n",
      " Selected variable fairfield with value count 4\n",
      "Selected valueblueforfairfield\n",
      " Removing blue from litchfield\n",
      " Removing blue from new haven\n",
      "Solution: {'fairfield': 'blue'}\n",
      " Selected variable litchfield with value count 3\n",
      "Selected valuegreenforlitchfield\n",
      " Removing green from hartford\n",
      " Removing green from new haven\n",
      "Solution: {'fairfield': 'blue', 'litchfield': 'green'}\n",
      " Selected variable new haven with value count 2\n",
      "Selected valueredfornew haven\n",
      " Removing red from hartford\n",
      " Removing red from middlesex\n",
      "Solution: {'fairfield': 'blue', 'litchfield': 'green', 'new haven': 'red'}\n",
      " Selected variable hartford with value count 2\n",
      "Selected valueblueforhartford\n",
      " Removing blue from new london\n",
      " Removing blue from tolland\n",
      " Removing blue from middlesex\n",
      "Solution: {'fairfield': 'blue', 'litchfield': 'green', 'new haven': 'red', 'hartford': 'blue'}\n",
      " Selected variable middlesex with value count 2\n",
      "Selected valuegreenformiddlesex\n",
      " Removing green from new london\n",
      "Solution: {'fairfield': 'blue', 'litchfield': 'green', 'new haven': 'red', 'hartford': 'blue', 'middlesex': 'green'}\n",
      " Selected variable new london with value count 2\n",
      "Selected valueredfornew london\n",
      " Removing red from windham\n",
      " Removing red from tolland\n",
      "Solution: {'fairfield': 'blue', 'litchfield': 'green', 'new haven': 'red', 'hartford': 'blue', 'middlesex': 'green', 'new london': 'red'}\n",
      " Selected variable tolland with value count 2\n",
      "Selected valuegreenfortolland\n",
      " Removing green from windham\n",
      "Solution: {'fairfield': 'blue', 'litchfield': 'green', 'new haven': 'red', 'hartford': 'blue', 'middlesex': 'green', 'new london': 'red', 'tolland': 'green'}\n",
      " Selected variable windham with value count 2\n",
      "Selected valueblueforwindham\n",
      "Solution: {'fairfield': 'blue', 'litchfield': 'green', 'new haven': 'red', 'hartford': 'blue', 'middlesex': 'green', 'new london': 'red', 'tolland': 'green', 'windham': 'blue'}\n"
     ]
    }
   ],
   "source": [
    "world = connecticut_map()\n",
    "solution = color_map(world, params=(minimum_remaining_values, static_domain_selection, forward_checking))\n",
    "#draw_color_map(world, solution)"
   ]
  },
  {
   "cell_type": "code",
   "execution_count": 278,
   "metadata": {},
   "outputs": [],
   "source": [
    "def least_contraining_value(variable, assignment, csp, debug=True):\n",
    "    neighbors = csp[2][variable]\n",
    "    value_count = []\n",
    "    for value in csp[1][variable]:\n",
    "        count = 0\n",
    "        for neighbor in neighbors:\n",
    "            if value in csp[1][neighbor]:\n",
    "                count = count + 1\n",
    "        value_count.append((value, count))\n",
    "    counted = sorted(value_count, key=itemgetter(1), reverse=True)\n",
    "    for value, count in counted:\n",
    "        if debug: print(\"  Selected value \" + str(value) + \"for \" + str(variable) )\n",
    "        yield value"
   ]
  },
  {
   "cell_type": "code",
   "execution_count": 279,
   "metadata": {},
   "outputs": [],
   "source": [
    "def degree_heuristic(solution, csp, debug=True):\n",
    "    unassigned_variables = [x for x in csp[0] if x not in solution]\n",
    "    variable_domain_count = [(x, len(csp[2][x])) for x in unassigned_variables]\n",
    "    variables = sorted(variable_domain_count, key=itemgetter(1), reverse=True)\n",
    "    if debug: print (\"  Selected variable \"+ str(variables[0][0])+ \" with constraint count \" + str(variables[0][1]))\n",
    "    return variables[0][0]"
   ]
  },
  {
   "cell_type": "code",
   "execution_count": 280,
   "metadata": {},
   "outputs": [
    {
     "name": "stdout",
     "output_type": "stream",
     "text": [
      "Solution: {}\n",
      "  Selected variable hartford with constraint count 5\n",
      "  Selected value bluefor hartford\n",
      " Removing blue from new london\n",
      " Removing blue from new haven\n",
      " Removing blue from litchfield\n",
      " Removing blue from tolland\n",
      " Removing blue from middlesex\n",
      "Solution: {'hartford': 'blue'}\n",
      "  Selected variable new haven with constraint count 4\n",
      "  Selected value greenfor new haven\n",
      " Removing green from fairfield\n",
      " Removing green from litchfield\n",
      " Removing green from middlesex\n",
      "Solution: {'hartford': 'blue', 'new haven': 'green'}\n",
      "  Selected variable new london with constraint count 4\n",
      "  Selected value redfor new london\n",
      " Removing red from windham\n",
      " Removing red from middlesex\n",
      " Removing red from tolland\n",
      "Solution: {'hartford': 'blue', 'new haven': 'green', 'new london': 'red'}\n",
      "  Selected variable litchfield with constraint count 3\n",
      "  Selected value redfor litchfield\n",
      " Removing red from fairfield\n",
      "Solution: {'hartford': 'blue', 'new haven': 'green', 'new london': 'red', 'litchfield': 'red'}\n",
      "  Selected variable middlesex with constraint count 3\n",
      "  Selected value yellowfor middlesex\n",
      "Solution: {'hartford': 'blue', 'new haven': 'green', 'new london': 'red', 'litchfield': 'red', 'middlesex': 'yellow'}\n",
      "  Selected variable tolland with constraint count 3\n",
      "  Selected value greenfor tolland\n",
      " Removing green from windham\n",
      "Solution: {'hartford': 'blue', 'new haven': 'green', 'new london': 'red', 'litchfield': 'red', 'middlesex': 'yellow', 'tolland': 'green'}\n",
      "  Selected variable fairfield with constraint count 2\n",
      "  Selected value yellowfor fairfield\n",
      "Solution: {'hartford': 'blue', 'new haven': 'green', 'new london': 'red', 'litchfield': 'red', 'middlesex': 'yellow', 'tolland': 'green', 'fairfield': 'yellow'}\n",
      "  Selected variable windham with constraint count 2\n",
      "  Selected value yellowfor windham\n",
      "Solution: {'hartford': 'blue', 'new haven': 'green', 'new london': 'red', 'litchfield': 'red', 'middlesex': 'yellow', 'tolland': 'green', 'fairfield': 'yellow', 'windham': 'yellow'}\n"
     ]
    }
   ],
   "source": [
    "world = connecticut_map()\n",
    "solution = color_map(world, params=(degree_heuristic, least_contraining_value, forward_checking),)\n",
    "#draw_color_map(world, solution)"
   ]
  }
 ],
 "metadata": {
  "interpreter": {
   "hash": "6a85539760894b402dab4de719ca6b80b12d2985f413e2f4579007c1147560eb"
  },
  "kernelspec": {
   "display_name": "Python 3.8.8 64-bit ('base': conda)",
   "language": "python",
   "name": "python3"
  },
  "language_info": {
   "codemirror_mode": {
    "name": "ipython",
    "version": 3
   },
   "file_extension": ".py",
   "mimetype": "text/x-python",
   "name": "python",
   "nbconvert_exporter": "python",
   "pygments_lexer": "ipython3",
   "version": "3.8.8"
  },
  "orig_nbformat": 4
 },
 "nbformat": 4,
 "nbformat_minor": 2
}
