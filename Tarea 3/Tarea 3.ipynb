{
 "cells": [
  {
   "cell_type": "code",
   "execution_count": 21,
   "metadata": {},
   "outputs": [],
   "source": [
    "import networkx as nx\n",
    "from copy import deepcopy\n",
    "from operator import itemgetter\n",
    "import matplotlib.pyplot as plt\n",
    "%matplotlib inline"
   ]
  },
  {
   "cell_type": "code",
   "execution_count": 22,
   "metadata": {},
   "outputs": [],
   "source": [
    "def check_completeness(solution, variables):\n",
    "    return True if len(solution) == len(variables) else False"
   ]
  },
  {
   "cell_type": "code",
   "execution_count": 23,
   "metadata": {},
   "outputs": [],
   "source": [
    "def static_variable_selection(solution, csp, debug=True):\n",
    "    unassigned_variables = [x for x in csp[0] if x not in solution]\n",
    "    variable = unassigned_variables[0]\n",
    "    if debug: print(\"Selected variable:\"+ str(variable))\n",
    "    return variable"
   ]
  },
  {
   "cell_type": "code",
   "execution_count": 24,
   "metadata": {},
   "outputs": [],
   "source": [
    "def static_domain_selection(variable, assignment, csp, debug=True):\n",
    "    for domain_value in csp[1][variable]:\n",
    "        if debug: print(\"Selected value\" + str(domain_value) + \"for\" + str(variable) )\n",
    "        yield domain_value"
   ]
  },
  {
   "cell_type": "code",
   "execution_count": 25,
   "metadata": {},
   "outputs": [],
   "source": [
    "def check_value_consistency(variable, value, assignment, constraints, debug=True):\n",
    "    if assignment is None: return False\n",
    "    for v in constraints:\n",
    "        if v in assignment:\n",
    "            if value is assignment[v]:\n",
    "                if debug: print(str(variable)+\":\"+ str(value)+ \"conflicts with\"+str(v)+\" :\" + str(assignment[v]))\n",
    "                return False\n",
    "    return True"
   ]
  },
  {
   "cell_type": "code",
   "execution_count": 26,
   "metadata": {},
   "outputs": [],
   "source": [
    "def no_inference(csp, variable, value, assignment, debug=True):\n",
    "    return True"
   ]
  },
  {
   "cell_type": "code",
   "execution_count": 27,
   "metadata": {},
   "outputs": [],
   "source": [
    "def backtrack(assignment, csp, params, debug=True):\n",
    "    select_unassigned_variable, order_domain_values, inference = params\n",
    "    if debug: print(\"Solution: \" +str(assignment))\n",
    "    if check_completeness(assignment, csp[0]): return True, assignment\n",
    "    variable = select_unassigned_variable(assignment, csp, debug=debug)\n",
    "    for value in order_domain_values(variable, assignment, csp, debug):\n",
    "        if check_value_consistency(variable, value, assignment, csp[2][variable], debug=debug):\n",
    "            assignment[variable], m_csp = value, deepcopy(csp)\n",
    "            if inference(csp, variable, value, assignment, debug=debug):\n",
    "                result, assignment = backtrack(deepcopy(assignment), csp, params, debug=debug)\n",
    "                if result: return True, assignment\n",
    "            del assignment[variable]\n",
    "            csp = m_csp\n",
    "    return False, assignment"
   ]
  },
  {
   "cell_type": "code",
   "execution_count": 28,
   "metadata": {},
   "outputs": [],
   "source": [
    "def backtracking_search(csp, params, debug=True):\n",
    "    solution = dict()\n",
    "    return backtrack(solution, csp, params, debug=debug)"
   ]
  },
  {
   "cell_type": "code",
   "execution_count": 29,
   "metadata": {},
   "outputs": [],
   "source": [
    "def get_adjacency_list(nodes, edges):\n",
    "    adjacency_list = dict()\n",
    "    for node in nodes:\n",
    "        aList = set()\n",
    "        [aList.add(x) for x, y in edges if x != node and y == node]\n",
    "        [aList.add(y) for x, y in edges if y != node and x == node]\n",
    "        adjacency_list[node] = aList\n",
    "    return adjacency_list"
   ]
  },
  {
   "cell_type": "code",
   "execution_count": 30,
   "metadata": {},
   "outputs": [],
   "source": [
    "def minimum_remaining_values():\n",
    "    pass\n",
    "def forward_checking():\n",
    "    pass\n",
    "def least_contraining_value():\n",
    "    pass\n"
   ]
  },
  {
   "cell_type": "code",
   "execution_count": 31,
   "metadata": {},
   "outputs": [],
   "source": [
    "def color_map(world, colors=[\"blue\", \"green\", \"red\", \"yellow\"], params=(minimum_remaining_values, least_contraining_value, forward_checking), debug=True):\n",
    "    variables = world[0]\n",
    "    domains = dict([(x, colors) for x in variables])\n",
    "    constraints = get_adjacency_list(world[0], world[1])\n",
    "    result, solution = backtracking_search((variables, domains, constraints), params, debug=debug)\n",
    "    if not result: print(\"No Solution\")                  \n",
    "    else: return solution"
   ]
  },
  {
   "cell_type": "code",
   "execution_count": 32,
   "metadata": {},
   "outputs": [],
   "source": [
    "def draw_color_map(world, colors, pos=None):\n",
    "    if colors is None: return\n",
    "    fig = plt.figure()\n",
    "   \n",
    "    G = nx.Graph()\n",
    "    if pos is None:\n",
    "        pos = nx.spring_layout(G)\n",
    "    G.add_nodes_from(world[0])\n",
    "    G.add_edges_from(world[1])\n",
    "    node_colors = [colors[x] for x in G.nodes()]\n",
    "    nx.draw(G, node_color=node_colors, node_size=700, alpha=0.5)\n",
    "    plt.axis('off')\n",
    "    fig.set_size_inches(8, 8)\n",
    "    plt.show()"
   ]
  },
  {
   "cell_type": "code",
   "execution_count": 33,
   "metadata": {},
   "outputs": [],
   "source": [
    "def autralia_map():\n",
    "    nodes = [\"Western Australia\", \"Northern Territory\", \"South Australia\", \"Queensland\", \"New South Wales\", \"Victoria\"]\n",
    "    edges = [(\"Western Australia\",\"Northern Territory\"), (\"Western Australia\",\"South Australia\"),\n",
    "             (\"Northern Territory\",\"South Australia\"),(\"Northern Territory\",\"Queensland\"),\n",
    "             (\"South Australia\",\"Queensland\"),\n",
    "             (\"Queensland\",\"New South Wales\"),\n",
    "             (\"New South Wales\",\"South Australia\"), (\"New South Wales\",\"Victoria\"),\n",
    "             (\"Victoria\",\"South Australia\")]\n",
    "    return (nodes, edges)"
   ]
  },
  {
   "cell_type": "code",
   "execution_count": 34,
   "metadata": {},
   "outputs": [
    {
     "name": "stdout",
     "output_type": "stream",
     "text": [
      "Solution: {}\n",
      "Selected variable:Western Australia\n",
      "Selected valueblueforWestern Australia\n",
      "Solution: {'Western Australia': 'blue'}\n",
      "Selected variable:Northern Territory\n",
      "Selected valueblueforNorthern Territory\n",
      "Northern Territory:blueconflicts withWestern Australia :blue\n",
      "Selected valuegreenforNorthern Territory\n",
      "Solution: {'Western Australia': 'blue', 'Northern Territory': 'green'}\n",
      "Selected variable:South Australia\n",
      "Selected valueblueforSouth Australia\n",
      "South Australia:blueconflicts withWestern Australia :blue\n",
      "Selected valuegreenforSouth Australia\n",
      "South Australia:greenconflicts withNorthern Territory :green\n",
      "Selected valueredforSouth Australia\n",
      "Solution: {'Western Australia': 'blue', 'Northern Territory': 'green', 'South Australia': 'red'}\n",
      "Selected variable:Queensland\n",
      "Selected valueblueforQueensland\n",
      "Solution: {'Western Australia': 'blue', 'Northern Territory': 'green', 'South Australia': 'red', 'Queensland': 'blue'}\n",
      "Selected variable:New South Wales\n",
      "Selected valueblueforNew South Wales\n",
      "New South Wales:blueconflicts withQueensland :blue\n",
      "Selected valuegreenforNew South Wales\n",
      "Solution: {'Western Australia': 'blue', 'Northern Territory': 'green', 'South Australia': 'red', 'Queensland': 'blue', 'New South Wales': 'green'}\n",
      "Selected variable:Victoria\n",
      "Selected valueblueforVictoria\n",
      "Solution: {'Western Australia': 'blue', 'Northern Territory': 'green', 'South Australia': 'red', 'Queensland': 'blue', 'New South Wales': 'green', 'Victoria': 'blue'}\n"
     ]
    },
    {
     "data": {
      "image/png": "[encoded data removed]",
      "text/plain": [
       "<Figure size 576x576 with 1 Axes>"
      ]
     },
     "metadata": {},
     "output_type": "display_data"
    }
   ],
   "source": [
    "world = autralia_map()\n",
    "solution = color_map(world, params=(static_variable_selection, static_domain_selection, no_inference))\n",
    "draw_color_map(world, solution)"
   ]
  },
  {
   "cell_type": "code",
   "execution_count": 35,
   "metadata": {},
   "outputs": [],
   "source": [
    "def minimum_remaining_values(solution, csp, debug=True):\n",
    "    unassigned_variables = [x for x in csp[0] if x not in solution]\n",
    "    variable_domain_count = [(x, len(csp[1][x])) for x in unassigned_variables]\n",
    "    variables = sorted(variable_domain_count, key=itemgetter(1))\n",
    "    if debug: print(\" Selected variable \" +str(variables[0][0])+ \" with value count \" + str(variables[0][1]))\n",
    "    return variables[0][0]"
   ]
  },
  {
   "cell_type": "code",
   "execution_count": 36,
   "metadata": {},
   "outputs": [],
   "source": [
    "def forward_checking(csp, variable, value, assignment, debug=True):\n",
    "    unassigned_neighbors = [y for y in csp[2][variable] if y not in assignment]\n",
    "    for x in unassigned_neighbors:\n",
    "        if value in csp[1][x]:\n",
    "            if debug: print(\" Removing \" +str(value) + \" from \" +str(x))\n",
    "            csp[1][x] = [c for c in csp[1][x] if c is not value]\n",
    "        if len(csp[1][x]) == 0: return False\n",
    "    return True"
   ]
  },
  {
   "cell_type": "code",
   "execution_count": 37,
   "metadata": {},
   "outputs": [
    {
     "name": "stdout",
     "output_type": "stream",
     "text": [
      "Solution: {}\n",
      " Selected variable Western Australia with value count 4\n",
      "Selected valueblueforWestern Australia\n",
      " Removing blue from South Australia\n",
      " Removing blue from Northern Territory\n",
      "Solution: {'Western Australia': 'blue'}\n",
      " Selected variable Northern Territory with value count 3\n",
      "Selected valuegreenforNorthern Territory\n",
      " Removing green from South Australia\n",
      " Removing green from Queensland\n",
      "Solution: {'Western Australia': 'blue', 'Northern Territory': 'green'}\n",
      " Selected variable South Australia with value count 2\n",
      "Selected valueredforSouth Australia\n",
      " Removing red from Victoria\n",
      " Removing red from Queensland\n",
      " Removing red from New South Wales\n",
      "Solution: {'Western Australia': 'blue', 'Northern Territory': 'green', 'South Australia': 'red'}\n",
      " Selected variable Queensland with value count 2\n",
      "Selected valueblueforQueensland\n",
      " Removing blue from New South Wales\n",
      "Solution: {'Western Australia': 'blue', 'Northern Territory': 'green', 'South Australia': 'red', 'Queensland': 'blue'}\n",
      " Selected variable New South Wales with value count 2\n",
      "Selected valuegreenforNew South Wales\n",
      " Removing green from Victoria\n",
      "Solution: {'Western Australia': 'blue', 'Northern Territory': 'green', 'South Australia': 'red', 'Queensland': 'blue', 'New South Wales': 'green'}\n",
      " Selected variable Victoria with value count 2\n",
      "Selected valueblueforVictoria\n",
      "Solution: {'Western Australia': 'blue', 'Northern Territory': 'green', 'South Australia': 'red', 'Queensland': 'blue', 'New South Wales': 'green', 'Victoria': 'blue'}\n"
     ]
    }
   ],
   "source": [
    "world = autralia_map()\n",
    "solution = color_map(world, params=(minimum_remaining_values, static_domain_selection, forward_checking))\n",
    "draw_color_map(world, solution)"
   ]
  },
  {
   "cell_type": "code",
   "execution_count": 38,
   "metadata": {},
   "outputs": [],
   "source": [
    "def least_contraining_value(variable, assignment, csp, debug=True):\n",
    "    neighbors = csp[2][variable]\n",
    "    value_count = []\n",
    "    for value in csp[1][variable]:\n",
    "        count = 0\n",
    "        for neighbor in neighbors:\n",
    "            if value in csp[1][neighbor]:\n",
    "                count = count + 1\n",
    "        value_count.append((value, count))\n",
    "    counted = sorted(value_count, key=itemgetter(1), reverse=True)\n",
    "    for value, count in counted:\n",
    "        if debug: print(\"  Selected value \" + str(value) + \"for \" + str(variable) )\n",
    "        yield value"
   ]
  },
  {
   "cell_type": "code",
   "execution_count": 39,
   "metadata": {},
   "outputs": [],
   "source": [
    "def degree_heuristic(solution, csp, debug=True):\n",
    "    unassigned_variables = [x for x in csp[0] if x not in solution]\n",
    "    variable_domain_count = [(x, len(csp[2][x])) for x in unassigned_variables]\n",
    "    variables = sorted(variable_domain_count, key=itemgetter(1), reverse=True)\n",
    "    if debug: print (\"  Selected variable \"+ str(variables[0][0])+ \" with constraint count \" + str(variables[0][1]))\n",
    "    return variables[0][0]"
   ]
  },
  {
   "cell_type": "code",
   "execution_count": 40,
   "metadata": {},
   "outputs": [
    {
     "name": "stdout",
     "output_type": "stream",
     "text": [
      "Solution: {}\n",
      "  Selected variable South Australia with constraint count 5\n",
      "  Selected value bluefor South Australia\n",
      " Removing blue from Victoria\n",
      " Removing blue from Queensland\n",
      " Removing blue from Western Australia\n",
      " Removing blue from New South Wales\n",
      " Removing blue from Northern Territory\n",
      "Solution: {'South Australia': 'blue'}\n",
      "  Selected variable Northern Territory with constraint count 3\n",
      "  Selected value greenfor Northern Territory\n",
      " Removing green from Western Australia\n",
      " Removing green from Queensland\n",
      "Solution: {'South Australia': 'blue', 'Northern Territory': 'green'}\n",
      "  Selected variable Queensland with constraint count 3\n",
      "  Selected value redfor Queensland\n",
      " Removing red from New South Wales\n",
      "Solution: {'South Australia': 'blue', 'Northern Territory': 'green', 'Queensland': 'red'}\n",
      "  Selected variable New South Wales with constraint count 3\n",
      "  Selected value yellowfor New South Wales\n",
      " Removing yellow from Victoria\n",
      "Solution: {'South Australia': 'blue', 'Northern Territory': 'green', 'Queensland': 'red', 'New South Wales': 'yellow'}\n",
      "  Selected variable Western Australia with constraint count 2\n",
      "  Selected value redfor Western Australia\n",
      "Solution: {'South Australia': 'blue', 'Northern Territory': 'green', 'Queensland': 'red', 'New South Wales': 'yellow', 'Western Australia': 'red'}\n",
      "  Selected variable Victoria with constraint count 2\n",
      "  Selected value greenfor Victoria\n",
      "Solution: {'South Australia': 'blue', 'Northern Territory': 'green', 'Queensland': 'red', 'New South Wales': 'yellow', 'Western Australia': 'red', 'Victoria': 'green'}\n"
     ]
    }
   ],
   "source": [
    "world = autralia_map()\n",
    "solution = color_map(world, params=(degree_heuristic, least_contraining_value, forward_checking),)\n",
    "draw_color_map(world, solution)"
   ]
  }
 ],
 "metadata": {
  "interpreter": {
   "hash": "6a85539760894b402dab4de719ca6b80b12d2985f413e2f4579007c1147560eb"
  },
  "kernelspec": {
   "display_name": "Python 3.8.8 64-bit ('base': conda)",
   "language": "python",
   "name": "python3"
  },
  "language_info": {
   "codemirror_mode": {
    "name": "ipython",
    "version": 3
   },
   "file_extension": ".py",
   "mimetype": "text/x-python",
   "name": "python",
   "nbconvert_exporter": "python",
   "pygments_lexer": "ipython3",
   "version": "3.8.8"
  },
  "orig_nbformat": 4
 },
 "nbformat": 4,
 "nbformat_minor": 2
}
